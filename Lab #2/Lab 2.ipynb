{
 "cells": [
  {
   "cell_type": "markdown",
   "id": "1c829c9d-b2ac-45e9-9da1-aa4b2b336760",
   "metadata": {},
   "source": [
    "# Lab 2\n",
    "## Problem 1\n"
   ]
  },
  {
   "cell_type": "code",
   "execution_count": null,
   "id": "7b1a4116-603f-4ef3-be68-8e727a5a4e40",
   "metadata": {},
   "outputs": [],
   "source": []
  }
 ],
 "metadata": {
  "kernelspec": {
   "display_name": "Python 3",
   "language": "python",
   "name": "python3"
  },
  "language_info": {
   "codemirror_mode": {
    "name": "ipython",
    "version": 3
   },
   "file_extension": ".py",
   "mimetype": "text/x-python",
   "name": "python",
   "nbconvert_exporter": "python",
   "pygments_lexer": "ipython3",
   "version": "3.8.8"
  }
 },
 "nbformat": 4,
 "nbformat_minor": 5
}
