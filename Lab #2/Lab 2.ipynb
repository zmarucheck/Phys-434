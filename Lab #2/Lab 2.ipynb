{
 "cells": [
  {
   "cell_type": "markdown",
   "id": "1c829c9d-b2ac-45e9-9da1-aa4b2b336760",
   "metadata": {},
   "source": [
    "# Lab 2\n",
    "## Problem 1\n",
    "#### Part A) Show how the probability distribution of the background changes as you integrate (sum) for more days.\n",
    "\n",
    "x = 4 (cosmic ray background)\n",
    "y = 7 (signal)"
   ]
  },
  {
   "cell_type": "code",
   "execution_count": 104,
   "id": "9823f2dd-022a-478f-8599-4fa52aff4317",
   "metadata": {},
   "outputs": [
    {
     "data": {
      "text/plain": [
       "Text(0.5, 1.0, 'Sums of 10 Days, not normalized')"
      ]
     },
     "execution_count": 104,
     "metadata": {},
     "output_type": "execute_result"
    },
    {
     "data": {
      "image/png": "[encoded data removed]",
      "text/plain": [
       "<Figure size 432x288 with 2 Axes>"
      ]
     },
     "metadata": {
      "needs_background": "light"
     },
     "output_type": "display_data"
    }
   ],
   "source": [
    "from scipy.stats import poisson\n",
    "import matplotlib.pyplot as plt\n",
    "import numpy as np\n",
    "import math\n",
    "\n",
    "mu = 4\n",
    "x = np.arange(poisson.ppf(0.01, mu),\n",
    "        poisson.ppf(0.99, mu))\n",
    "fig, (ax1, ax2) = plt.subplots(1, 2)\n",
    "\n",
    "pois_sum = poisson.pmf(x, mu)\n",
    "for i in range(pois_sum.size - 1):\n",
    "    pois_sum[i + 1] = pois_sum[i] + pois_sum[i + 1]\n",
    "\n",
    "ax1.plot(x, pois_sum, 'bo', ms=8, label='poisson pmf')\n",
    "ax1.vlines(x, 0, pois_sum, colors='b', lw=5, alpha=0.7)\n",
    "ax1.set_title(\"One Day Summation\")\n",
    "ax2.plot(x, pois_sum * 10, 'bo', ms=8, label='poisson pmf')\n",
    "ax2.vlines(x, 0, pois_sum * 10, colors='b', lw=5, alpha=0.7)\n",
    "ax2.set_title(\"Sums of 10 Days, not normalized\")"
   ]
  },
  {
   "cell_type": "markdown",
   "id": "b3324c01-75f1-4855-ae9b-045b182d21f3",
   "metadata": {},
   "source": [
    "#### Part B) Show that after 5 days, the summed probability distribution is still a Poisson distribution. Explain why this makes sense from a mathematical and conceptual point of view.\n",
    "Adding multiple Poisson distributions together resulting in another Poisson distribution makes sense because all the components are identical Poisson distributions, so the result should also be a Poisson distribution with higher values but identical shape."
   ]
  },
  {
   "cell_type": "code",
   "execution_count": 105,
   "id": "dfd0f4a0-c60f-4e74-a685-ab951c2fcb08",
   "metadata": {},
   "outputs": [
    {
     "data": {
      "text/plain": [
       "Text(0.5, 1.0, 'Sums of 5 Days, Not Normalized, Still a Poisson Distribution')"
      ]
     },
     "execution_count": 105,
     "metadata": {},
     "output_type": "execute_result"
    },
    {
     "data": {
      "image/png": "[encoded data removed]",
      "text/plain": [
       "<Figure size 432x288 with 1 Axes>"
      ]
     },
     "metadata": {
      "needs_background": "light"
     },
     "output_type": "display_data"
    }
   ],
   "source": [
    "plt.plot(x, pois_sum * 5, 'bo', ms=8, label='poisson pmf')\n",
    "plt.vlines(x, 0, pois_sum * 5, colors='b', lw=5, alpha=0.7)\n",
    "plt.title(\"Sums of 5 Days, Not Normalized, Still a Poisson Distribution\")"
   ]
  },
  {
   "cell_type": "markdown",
   "id": "e8cf6b6f-4a2a-4611-94d1-05b55a8e0438",
   "metadata": {},
   "source": [
    "#### Part C) Show how the probability distribution evolves as you average days. Calculate for many different ranges of days, and explore the shape of the distribution as the number of days becomes larger. Discuss this in relation to both B) and the central limit theoem."
   ]
  },
  {
   "cell_type": "code",
   "execution_count": 106,
   "id": "e3e0556e-d35e-473c-823d-852cf0981468",
   "metadata": {},
   "outputs": [
    {
     "data": {
      "text/plain": [
       "Text(0.5, 1.0, 'Averages Over 1000 Days')"
      ]
     },
     "execution_count": 106,
     "metadata": {},
     "output_type": "execute_result"
    },
    {
     "data": {
      "image/png": "[encoded data removed]",
      "text/plain": [
       "<Figure size 432x288 with 2 Axes>"
      ]
     },
     "metadata": {
      "needs_background": "light"
     },
     "output_type": "display_data"
    }
   ],
   "source": [
    "averages100 = []\n",
    "averages1000 = []\n",
    "for i in range(100):\n",
    "    dist = np.random.poisson(mu, 10)\n",
    "    averages100.append(sum(dist) / len(dist))\n",
    "for i in range(1000):\n",
    "    dist = np.random.poisson(mu, 10)\n",
    "    averages1000.append(sum(dist) / len(dist))\n",
    "    \n",
    "    \n",
    "fig, (ax1, ax2) = plt.subplots(1, 2)\n",
    "ax1.hist(averages100)\n",
    "ax1.set_title(\"Averages Over 100 Days\")\n",
    "ax2.hist(averages1000)\n",
    "ax2.set_title(\"Averages Over 1000 Days\")"
   ]
  },
  {
   "cell_type": "markdown",
   "id": "e16c8247-a201-4e0b-8ac2-a0b361dc3a8c",
   "metadata": {},
   "source": [
    "Differently from Part B's continuation as a Poisson distribution, the averages of many trials becomes more and more Gaussian as more trials are added, which matches the central limit theorem's statement that the averages of independent random variables tend towards a Gaussian even if the original distribution is not Gaussian"
   ]
  },
  {
   "cell_type": "markdown",
   "id": "59715f67-3513-4515-aaee-249955105fed",
   "metadata": {},
   "source": [
    "#### Part D) Pick some number of days N, and assume you saw Y*N gamma rays from your source. Calculate the 'sigma' of your observation. \\[In reality the number of gamma-rays seen from a source will also fluctuate, but we're going to ignore that complication for a couple of labs.]\n"
   ]
  },
  {
   "cell_type": "code",
   "execution_count": 218,
   "id": "1d26bd18-549e-4be7-afa3-da853cc30a36",
   "metadata": {},
   "outputs": [
    {
     "name": "stdout",
     "output_type": "stream",
     "text": [
      "Sigma of observation is: 3.063373083090288\n"
     ]
    }
   ],
   "source": [
    "from scipy.special import erfinv\n",
    "N = 4\n",
    "y = 7\n",
    "x = poisson.cdf(mu * y,mu * N)\n",
    "print(\"Sigma of observation is: \" + str(erfinv(x)*2**0.5))"
   ]
  },
  {
   "cell_type": "markdown",
   "id": "0c10e047-244a-41da-919f-dc7562b4cff2",
   "metadata": {},
   "source": [
    "## Problem 2\n",
    "#### Choosing Rayleigh distribution\n",
    "#### Part A) Show how the distribution changes as you average over more observing intervals.\n"
   ]
  },
  {
   "cell_type": "code",
   "execution_count": 161,
   "id": "8818ade8-0532-43a5-8d86-3c45f14aadd8",
   "metadata": {},
   "outputs": [
    {
     "data": {
      "text/plain": [
       "Text(0.5, 1.0, 'Averages Over 50 Days')"
      ]
     },
     "execution_count": 161,
     "metadata": {},
     "output_type": "execute_result"
    },
    {
     "data": {
      "image/png": "[encoded data removed]",
      "text/plain": [
       "<Figure size 432x288 with 3 Axes>"
      ]
     },
     "metadata": {
      "needs_background": "light"
     },
     "output_type": "display_data"
    }
   ],
   "source": [
    "averages30 = []\n",
    "averages40 = []\n",
    "averages50 = []\n",
    "for i in range(30):\n",
    "    dist = np.random.rayleigh(2, 10)\n",
    "    averages30.append(sum(dist) / len(dist))\n",
    "for i in range(40):\n",
    "    dist = np.random.rayleigh(mu, 10)\n",
    "    averages40.append(sum(dist) / len(dist))\n",
    "for i in range(50):\n",
    "    dist = np.random.rayleigh(mu, 10)\n",
    "    averages50.append(sum(dist) / len(dist))\n",
    "    \n",
    "    \n",
    "fig, (ax1, ax2, ax3) = plt.subplots(1, 3)\n",
    "\n",
    "ax1.hist(averages30)\n",
    "ax1.set_title(\"Averages Over 30 Days\")\n",
    "ax2.hist(averages40)\n",
    "ax2.set_title(\"Averages Over 40 Days\")\n",
    "ax3.hist(averages50)\n",
    "ax3.set_title(\"Averages Over 50 Days\")"
   ]
  },
  {
   "cell_type": "markdown",
   "id": "31af7ee4-6d81-45d0-85fa-44077696eed1",
   "metadata": {},
   "source": [
    "#### Part B) Discuss how the shape changes. Does it approach a Gaussian distribution? If yes, after how many intervals?\n",
    "The shape gets closer to a Gaussian as more days are added, approaching one after 40-50 intervals."
   ]
  },
  {
   "cell_type": "markdown",
   "id": "642e7ef7-5fcd-493f-90d9-95a57216a6d5",
   "metadata": {},
   "source": [
    "## Problem 3\n",
    "#### Version 1"
   ]
  },
  {
   "cell_type": "code",
   "execution_count": 240,
   "id": "cd137f26-042d-4c27-a245-78702be52ffe",
   "metadata": {},
   "outputs": [
    {
     "data": {
      "image/png": "[encoded data removed]",
      "text/plain": [
       "<Figure size 432x288 with 1 Axes>"
      ]
     },
     "metadata": {
      "needs_background": "light"
     },
     "output_type": "display_data"
    },
    {
     "name": "stdout",
     "output_type": "stream",
     "text": [
      "Significance is: 5.964232538868282 sigma so I can claim a discovery.\n"
     ]
    }
   ],
   "source": [
    "from scipy.stats import norm\n",
    "# Gaussian standard deviation\n",
    "\n",
    "mu = 0\n",
    "sigma = 4\n",
    "x = np.linspace(mu - 5*sigma, mu + 5*sigma, 100)\n",
    "plt.plot(x, stats.norm.pdf(x, mu, sigma))\n",
    "plt.show()\n",
    "\n",
    "sigma = 4\n",
    "# Signal strength\n",
    "y = 23.4\n",
    "prop = norm.cdf(23.4,0,4)\n",
    "print(\"Significance is: \" + str(erfinv(prop)*2**0.5) + \" sigma so I can claim a discovery.\")"
   ]
  },
  {
   "cell_type": "markdown",
   "id": "ce4c7c97-c48f-4172-9bb2-6ca2b717a61c",
   "metadata": {},
   "source": [
    "#### Version 2\n",
    "#### Part B) If you have to look for a signal in 10k pixels, what is the probability distribution of your background? (Clearly state the statistical question, then turn that into math using your background distribution from part 1 of this problem.)\n",
    "If there is no signal to be found, we expect the background to follow a zero-mean Gaussian distribution with a standard deviation of 4, multiplied by 10000 trials. What is the probability that such a background produced a signal of 23.4 strength or higher?"
   ]
  },
  {
   "cell_type": "code",
   "execution_count": 227,
   "id": "5e4a016e-074d-4e02-8949-19c25cb9fadb",
   "metadata": {},
   "outputs": [
    {
     "data": {
      "image/png": "[encoded data removed]",
      "text/plain": [
       "<Figure size 432x288 with 1 Axes>"
      ]
     },
     "metadata": {
      "needs_background": "light"
     },
     "output_type": "display_data"
    }
   ],
   "source": [
    "mu = 0\n",
    "sigma = 4\n",
    "x = np.linspace(mu - 5*sigma, mu + 5*sigma, 100)\n",
    "plt.plot(x, stats.norm.pdf(x, mu, sigma) * 10000)\n",
    "plt.show()"
   ]
  },
  {
   "cell_type": "markdown",
   "id": "78406d0c-f9ce-40f8-8694-97391cd82ab8",
   "metadata": {},
   "source": [
    "#### Part C) Taking your brightest candidate signal from the region (assume it has the same signal as in part 1), calculate the significance of your detection."
   ]
  },
  {
   "cell_type": "code",
   "execution_count": 232,
   "id": "dbd566a8-f86f-40de-9fdc-4e73d989ef0d",
   "metadata": {},
   "outputs": [
    {
     "name": "stdout",
     "output_type": "stream",
     "text": [
      "Significance is: 4.218634346128136 sigma so I can not claim a discovery.\n"
     ]
    }
   ],
   "source": [
    "sigma = 4\n",
    "y = 23.4\n",
    "prop = (1 - (1 - norm.cdf(23.4,0,4)) * 10000)\n",
    "print(\"Significance is: \" + str(erfinv(prop)*2**0.5) + \" sigma so I can not claim a discovery.\")"
   ]
  },
  {
   "cell_type": "markdown",
   "id": "285f33b3-fc23-4721-a52d-3db1fecee222",
   "metadata": {},
   "source": [
    "## Problem 4\n",
    "#### Part A) Calculate the signal required for a 5-sigma detection in Version 1\n",
    "20, as sigma was equal to 4 and no additional trials were conducted.\n",
    "#### Part B) Calculate the signal required for a 5-sigma detection in Version 2"
   ]
  },
  {
   "cell_type": "code",
   "execution_count": 239,
   "id": "8b7b2502-3d95-42f3-ac3d-79b932ce63aa",
   "metadata": {},
   "outputs": [
    {
     "name": "stdout",
     "output_type": "stream",
     "text": [
      "Signal required for 5-sigma detection in Version 2 is 32.83814460640555\n"
     ]
    }
   ],
   "source": [
    "from scipy.special import erf\n",
    "print(\"Signal required for 5-sigma detection in Version 2 is \" + str(norm.ppf((1 - (1 - erf(5)) / 10000), 0, sigma)))"
   ]
  },
  {
   "cell_type": "markdown",
   "id": "50000671-e079-4b0b-949a-c06ad1080125",
   "metadata": {},
   "source": [
    "#### Part C) Discuss how much brighter the signal must be for discoverey if you have a trials factor of 10k. Looking at your probability distributions, explain why the sensitivity penalty due to a trials factor is so low.\n",
    "The signal must be around 13 brighter, or around a factor of 1.6. The factor is so low because the probability decreases towards 0 asymptotically, and therefore doesn't take long to shrink the distance between the probability distribution and the base line by a factor or even several factors of 10.\n",
    "#### Part D) If you changed the trials factor significantly (orders of magnitude), how large is the effect on your 5-sigma sensitivity threshold?\n",
    "The effect would likely be logarithmic or similar, in that increasing the trials factor by an order of magnitude will only increase the 5-sigma sensitivity threshold by around 3 or 4, rather than by a significant factor.\n"
   ]
  },
  {
   "cell_type": "code",
   "execution_count": null,
   "id": "b8909cb9-9499-4d8a-b906-5198caa60fb6",
   "metadata": {},
   "outputs": [],
   "source": []
  }
 ],
 "metadata": {
  "kernelspec": {
   "display_name": "Python 3",
   "language": "python",
   "name": "python3"
  },
  "language_info": {
   "codemirror_mode": {
    "name": "ipython",
    "version": 3
   },
   "file_extension": ".py",
   "mimetype": "text/x-python",
   "name": "python",
   "nbconvert_exporter": "python",
   "pygments_lexer": "ipython3",
   "version": "3.8.8"
  }
 },
 "nbformat": 4,
 "nbformat_minor": 5
}
