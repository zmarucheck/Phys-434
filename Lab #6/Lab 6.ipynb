{
 "cells": [
  {
   "cell_type": "markdown",
   "id": "40d460f5-2013-48d7-b8ee-300163c29734",
   "metadata": {},
   "source": [
    "## Prelab\n",
    "For the LHC data, we are going to have to fake a background. Make a Poisson background with mean 100. "
   ]
  },
  {
   "cell_type": "code",
   "execution_count": 13,
   "id": "c67b92ec-501b-4e1a-b9fd-6713045b7720",
   "metadata": {},
   "outputs": [],
   "source": [
    "import numpy as np\n",
    "import matplotlib.pyplot as plt\n",
    "\n",
    "total_data_points = 10000\n",
    "rng = np.random.default_rng()\n",
    "bkgd = rng.poisson(100, total_data_points)"
   ]
  },
  {
   "cell_type": "markdown",
   "id": "b3e9e728-b934-47dc-98c3-4431751639be",
   "metadata": {},
   "source": [
    "## Problem 1\n",
    "#### The first problem is to look at your background distribution and determine where the 5𝜎 sensitivity threshold is."
   ]
  },
  {
   "cell_type": "code",
   "execution_count": 14,
   "id": "3f2c6a16-a94a-444a-98d3-7edf366f3060",
   "metadata": {},
   "outputs": [
    {
     "name": "stdout",
     "output_type": "stream",
     "text": [
      "5-sigma sensitivity threshold is from 49.75440467503325 to 150.39539532496676\n"
     ]
    }
   ],
   "source": [
    "mean = np.mean(bkgd)\n",
    "std_dev = np.std(bkgd)\n",
    "\n",
    "print(\"5-sigma sensitivity threshold is from \" + str(mean-std_dev*5) + \" to \" + str(mean+std_dev*5))"
   ]
  },
  {
   "cell_type": "markdown",
   "id": "f463ac0b-112b-4eec-903e-3dd9b2ed84eb",
   "metadata": {},
   "source": [
    "## Problem 2\n",
    "#### Now inject a signal of known strength. You will want to make your signal moderately strong, say somewhere in the 8-30𝜎 range. Inject this signal into your background data many times."
   ]
  },
  {
   "cell_type": "code",
   "execution_count": 15,
   "id": "e6ee54f9-8a99-4b79-9e4c-83fda17ed66b",
   "metadata": {},
   "outputs": [],
   "source": [
    "signal = np.append((np.ones(500) * std_dev * 15),np.zeros(total_data_points - 500))\n",
    "data = bkgd + signal"
   ]
  },
  {
   "cell_type": "markdown",
   "id": "6643f90a-0a3c-4577-8290-3c7765daa717",
   "metadata": {},
   "source": [
    "#### a) Histogram how bright the observed signal appears to be, and discuss it's shape. Say in words what this histogram is telling you."
   ]
  },
  {
   "cell_type": "code",
   "execution_count": 19,
   "id": "561a23de-86bc-43de-9742-d82e02a0e150",
   "metadata": {},
   "outputs": [
    {
     "data": {
      "image/png": "[encoded data removed]",
      "text/plain": [
       "<Figure size 432x288 with 1 Axes>"
      ]
     },
     "metadata": {
      "needs_background": "light"
     },
     "output_type": "display_data"
    }
   ],
   "source": [
    "plt.hist(data, bins=40)\n",
    "plt.show()"
   ]
  },
  {
   "cell_type": "markdown",
   "id": "54865ec3-4f0f-4d44-87f4-e8b459ace052",
   "metadata": {},
   "source": [
    "The observed signal appears to be a second histogram to the far right of the leftmost background histogram, only much smaller due to it having much fewer data points making it up compared to the background histogram."
   ]
  }
 ],
 "metadata": {
  "kernelspec": {
   "display_name": "Python 3",
   "language": "python",
   "name": "python3"
  },
  "language_info": {
   "codemirror_mode": {
    "name": "ipython",
    "version": 3
   },
   "file_extension": ".py",
   "mimetype": "text/x-python",
   "name": "python",
   "nbconvert_exporter": "python",
   "pygments_lexer": "ipython3",
   "version": "3.8.8"
  }
 },
 "nbformat": 4,
 "nbformat_minor": 5
}
