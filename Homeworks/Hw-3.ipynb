{
 "cells": [
  {
   "cell_type": "markdown",
   "id": "505befe6-879a-4201-8065-19ba02980626",
   "metadata": {},
   "source": [
    "## Problem 1\n",
    "#### Part 1a) Which algorithm makes the fewest mistakes?\n",
    "The NN algorithm makes fewer mistakes (3+5=8 total mistakes for the NN algorithm vs 1+11=12 total mistakes for the NA algorithm)\n",
    "#### Part 1b) Which algorithm is better for the zoo? Explain.\n",
    "The NA algorithm is better for the zoo, as it only incorrectly categorized one bird as a human as opposed to the NN algorithm's 3 mistaken categorizations of birds as humans. The NA's increased categorization of humans as birds doesn't really matter since a human-as-bird error results in a mild inconvinience for the human while a bird-as-human error allows a bird to potentially escape, which is much worse than a mild inconvinience.\n",
    "#### Part 1c) During the pandemic the number of visitors plummets, and it is only the zoo keeper visiting. So instead of 52% of the photos taken at the aviary door being people, it is now only 1%. Make new truth tables for both algorithms.\n",
    "\n",
    "|       | True Bird | True Person        |\n",
    "| ----------- | ----------- | ----------- |\n",
    "| NN Bird      | 4826       | 5        |\n",
    "| NN Person   | 322        | 47        |\n",
    "\n",
    "|       | True Bird | True Person        |\n",
    "| ----------- | ----------- | ----------- |\n",
    "| NA Bird      | 5041       | 11        |\n",
    "| NA Person   | 107        | 42        |"
   ]
  },
  {
   "cell_type": "markdown",
   "id": "594fc300-bdf1-4a06-9d7c-60529433b59d",
   "metadata": {},
   "source": [
    "## Problem 2\n",
    "#### Part 2a) What is the pdf of the sum of two identical exponential distributions?\n",
    "First I googled \"pdf of sum of two identical exponential distributions\" and was led to [this website](https://towardsdatascience.com/sum-of-exponential-random-variables-b023b61f0c0f) that explains the steps in detail and shows that the result of the sum of two identical exponential distributions with rate λ would be Erlang(2, λ). I then looked up what an Erlang distribution was and found the [wikipedia article on it](https://en.wikipedia.org/wiki/Erlang_distribution).\n",
    "#### Part 2b) What is the pdf of the ratio of two zero-mean unit variance normal distributions  𝑋1/𝑋2 ?\n",
    "I again looked up relevant parts of the question to find [a pdf](http://www.math.wm.edu/~leemis/chart/UDR/PDFs/StandardnormalStandardcauchy.pdf) explaining the ratio of two standard normal random variables (which is the variable form of \"two zero-mean unit variance normal distributions\") results in a [standrd Cauchy distribution](https://en.wikipedia.org/wiki/Cauchy_distribution).\n",
    "#### Part c) So far we have looked at 1D probability distributions, but it is possible to have a multi-dimensional vector distribution. A simple first introduction is the 2D Guassian; it looks like a smeared spot. Mathematically this is given by  𝑋𝑖̂ +𝑌𝑗̂   where both  𝑋  and  𝑌  are drawn from 1D Gaussian distributions. If I measure the amplitude of this vector, what is its pdf? (Hint, the amplitude is always positive.)\n",
    "I began by googling \"multidimensional vector distribution\" which led me to the [wikipedia page for multivariate normal distributions](https://en.wikipedia.org/wiki/Multivariate_normal_distribution). Further exploration lead to a [page looking into the distributions of amplitudes created by a multivariate gaussian distribution](https://stats.stackexchange.com/questions/318220/distribution-of-the-magnitude-of-samples-from-the-multivariate-gaussian-distribu), which claims that the amplitudes can be represented by a chi-square distribution."
   ]
  },
  {
   "cell_type": "code",
   "execution_count": null,
   "id": "13b72981-c292-4ea2-bdbe-110fed61e7ca",
   "metadata": {},
   "outputs": [],
   "source": []
  }
 ],
 "metadata": {
  "kernelspec": {
   "display_name": "Python 3",
   "language": "python",
   "name": "python3"
  },
  "language_info": {
   "codemirror_mode": {
    "name": "ipython",
    "version": 3
   },
   "file_extension": ".py",
   "mimetype": "text/x-python",
   "name": "python",
   "nbconvert_exporter": "python",
   "pygments_lexer": "ipython3",
   "version": "3.8.8"
  }
 },
 "nbformat": 4,
 "nbformat_minor": 5
}
