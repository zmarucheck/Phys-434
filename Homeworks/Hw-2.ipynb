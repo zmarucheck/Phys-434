{
 "cells": [
  {
   "cell_type": "markdown",
   "id": "035e7104-b76d-4aec-b4ad-f07611b6597e",
   "metadata": {},
   "source": [
    "#### 1) A little introductory brain teaser. Which is more probable when rolling 2 six-sided dice: rolling snake eyes (two ones) or rolling sevens (dice sum to seven)? What is the ratio of the probabilities?\n",
    "It's more probable to roll sevens with a snake eyes to sevens ratio of 1:6 (due to 1 possible roll for snake eyes and 6 possible rolls that result in sevens).\n",
    "#### 2) Following what we did in class show how to use the convolution operator to determine the probability of the sum of 2 six sided dice. Do both analytically (math & counting) and numerically (computer program). Beware the implicit definition of the values (x-axis on histogram).\n",
    "6 * 6 = 36 possible outcomes\n",
    "P(2) = P(12) = P(1) * P(1) = 1/6 * 1/6 = 1/36  \n",
    "P(3) = P(11) = P(1) * P(2) + P(2) * P(1) = 1/6 * 1/6 * 2 = 2/36  \n",
    "P(4) = P(10) = P(1) * P(3) * 3 b/c 3 possibilities for rolls that work = 3/36  \n",
    "P(5) = P(9) = P(1) * P(4) * 4 b/c 4 possibilities for rolls that work = 4/36  \n",
    "P(6) = P(8) = P(1) * P(5) * 5 b/c 5 possibilities for rolls that work = 5/36  \n",
    "P(7) = P(1) * P(6) * 6 b/c 6 possibilities for rolls that work = 6/36"
   ]
  },
  {
   "cell_type": "code",
   "execution_count": 1,
   "id": "1396d47a-5cdd-41a6-aa29-82391f031d57",
   "metadata": {},
   "outputs": [
    {
     "name": "stdout",
     "output_type": "stream",
     "text": [
      "[0.02777778 0.05555556 0.08333333 0.11111111 0.13888889 0.16666667\n",
      " 0.13888889 0.11111111 0.08333333 0.05555556 0.02777778]\n"
     ]
    },
    {
     "data": {
      "image/png": "[encoded data removed]",
      "text/plain": [
       "<Figure size 432x288 with 1 Axes>"
      ]
     },
     "metadata": {
      "needs_background": "light"
     },
     "output_type": "display_data"
    }
   ],
   "source": [
    "import numpy as np\n",
    "import matplotlib.pyplot as plt\n",
    "p1 = [1/6, 1/6, 1/6, 1/6, 1/6, 1/6]\n",
    "p2 = p1\n",
    "num_dice = 2\n",
    "\n",
    "for i in range(num_dice - 1):\n",
    "    con = np.convolve(p1, p2)\n",
    "    p1 = con\n",
    "\n",
    "print(p1)\n",
    "\n",
    "fig = plt.figure()\n",
    "ax = fig.add_axes([0,0,1,1])\n",
    "ax.bar(range(2,13), p1)\n",
    "plt.show()"
   ]
  },
  {
   "cell_type": "markdown",
   "id": "875b6b25-2b5c-40c1-89f1-715b2a10e515",
   "metadata": {},
   "source": [
    "#### 3) Calculate the mean and the variance of the distribution in problem 2. Hint: this is surprisingly tricky, make sure your result makes sense."
   ]
  },
  {
   "cell_type": "code",
   "execution_count": 2,
   "id": "aedf9ee7-cb62-49ce-8b2f-e23ea4f65b75",
   "metadata": {},
   "outputs": [
    {
     "name": "stdout",
     "output_type": "stream",
     "text": [
      "Mean = 7.0\n",
      "Variance = 5.833333333333333\n"
     ]
    }
   ],
   "source": [
    "a = []\n",
    "for i1 in range(1,7):\n",
    "    for i2 in range(1,7):\n",
    "        a.append(i1+i2)\n",
    "mean = sum(a) / len(a)\n",
    "print(\"Mean = \" + str(mean))\n",
    "\n",
    "var = np.var(a)\n",
    "print(\"Variance = \" + str(var))"
   ]
  },
  {
   "cell_type": "markdown",
   "id": "0dc12824-5c4a-4b26-a23a-b24348d070d4",
   "metadata": {},
   "source": [
    "#### 4) Repeat 2, and graph the average of 10 dice. Is this is a Gaussian distribution? Explain in depth.\n",
    "6^10 possible outcomes, ranging from 1*10 to 6 * 10, or 10 to 60  \n",
    "P(10) = P(60) = 1 possible way to get it = 1/6^10  \n",
    "P(11) = P(59) = 10 possible ways to get it = 10/6^10  \n",
    "P(12) = P(58) = 10 * 10 - 10 + 10 * 10 - 10 = 180 possible ways to get it  \n",
    "and so on"
   ]
  },
  {
   "cell_type": "code",
   "execution_count": null,
   "id": "aa6bd41e-4225-4405-be69-89935029b795",
   "metadata": {},
   "outputs": [],
   "source": [
    "p1 = [1/6, 1/6, 1/6, 1/6, 1/6, 1/6]\n",
    "p2 = p1\n",
    "num_dice = 10\n",
    "\n",
    "for i in range(num_dice - 1):\n",
    "    con = np.convolve(p1, p2)\n",
    "    p1 = con\n",
    "\n",
    "print(\"List of probabilities from 10 to 60 are: \\n\" + str(p1))"
   ]
  },
  {
   "cell_type": "code",
   "execution_count": 4,
   "id": "28c3a648-4beb-484e-9d78-02319a5e902b",
   "metadata": {},
   "outputs": [
    {
     "data": {
      "image/png": "[encoded data removed]",
      "text/plain": [
       "<Figure size 432x288 with 1 Axes>"
      ]
     },
     "metadata": {
      "needs_background": "light"
     },
     "output_type": "display_data"
    }
   ],
   "source": [
    "fig = plt.figure()\n",
    "ax = fig.add_axes([0,0,1,1])\n",
    "ax.bar(range(10,61), p1)\n",
    "plt.show()"
   ]
  },
  {
   "cell_type": "markdown",
   "id": "13663d0f-eb67-43f7-b039-f98d39b10a46",
   "metadata": {},
   "source": [
    "It's not necessarily a Gaussian distribution, but according to the central limit theorem it approaches one as more trials are used."
   ]
  },
  {
   "cell_type": "markdown",
   "id": "02afe0a9-f6b6-44d2-8b1c-b9d9e32715f0",
   "metadata": {},
   "source": [
    "#### 5) Show that the sum and average of an initially Gaussian distribution is also a Guassian (can be analytic or numerical). How does the standard deviation of the resulting sum or average Guassian change? This is a hugely important result. Explore what this means for integrating a signal over time."
   ]
  },
  {
   "cell_type": "code",
   "execution_count": 6,
   "id": "9bd5b80c-46ab-40e8-bdf9-28b0be70fd42",
   "metadata": {},
   "outputs": [
    {
     "name": "stdout",
     "output_type": "stream",
     "text": [
      "Combined data from 1000 Gaussians with a mean of 5, standard deviation of 2, and 10 values\n",
      "Standard deviation of sums is: 6.065925911677213\n",
      "Standard deviation of averages is: 0.6065925911677212\n"
     ]
    },
    {
     "data": {
      "image/png": "[encoded data removed]",
      "text/plain": [
       "<Figure size 432x288 with 2 Axes>"
      ]
     },
     "metadata": {
      "needs_background": "light"
     },
     "output_type": "display_data"
    }
   ],
   "source": [
    "# Use random.normal() to get Gaussian data\n",
    "import statistics as stat\n",
    "\n",
    "sums = []\n",
    "averages = []\n",
    "for i in range(1000):\n",
    "    dist = np.random.normal(5, 2, 10)\n",
    "    sums.append(sum(dist))\n",
    "    averages.append(sum(dist) / len(dist))\n",
    "fig, (ax1, ax2) = plt.subplots(1, 2)\n",
    "ax1.hist(sums)\n",
    "ax1.set_title(\"Sums\")\n",
    "ax2.hist(averages)\n",
    "ax2.set_title(\"Averages\")\n",
    "print(\"Combined data from 1000 Gaussians with a mean of 5, standard deviation of 2, and 10 values\")\n",
    "print(\"Standard deviation of sums is: \" + str(stat.pstdev(sums)))\n",
    "print(\"Standard deviation of averages is: \" + str(stat.pstdev(averages)))"
   ]
  },
  {
   "cell_type": "markdown",
   "id": "fff5ff3e-9124-4790-ae30-1c4f1bc1bffa",
   "metadata": {},
   "source": [
    "The standard deviaition of the sum increases with multiple trials but the but the standard deviation of the average decreases with multiple trials. This means that integrating a signal over time will have a larger standard deviation but averaging multiple signals can lower the standard deviation."
   ]
  },
  {
   "cell_type": "code",
   "execution_count": null,
   "id": "87bc000d-0a65-4680-80db-0b259849dd4f",
   "metadata": {},
   "outputs": [],
   "source": []
  }
 ],
 "metadata": {
  "kernelspec": {
   "display_name": "Python 3",
   "language": "python",
   "name": "python3"
  },
  "language_info": {
   "codemirror_mode": {
    "name": "ipython",
    "version": 3
   },
   "file_extension": ".py",
   "mimetype": "text/x-python",
   "name": "python",
   "nbconvert_exporter": "python",
   "pygments_lexer": "ipython3",
   "version": "3.8.8"
  }
 },
 "nbformat": 4,
 "nbformat_minor": 5
}
