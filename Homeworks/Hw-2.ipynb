{
 "cells": [
  {
   "cell_type": "markdown",
   "id": "035e7104-b76d-4aec-b4ad-f07611b6597e",
   "metadata": {},
   "source": [
    "#### 1) A little introductory brain teaser. Which is more probable when rolling 2 six-sided dice: rolling snake eyes (two ones) or rolling sevens (dice sum to seven)? What is the ratio of the probabilities?\n",
    "It's more probable to roll sevens with a snake eyes to sevens ratio of 1:6 (due to 1 possible roll for snake eyes and 6 possible rolls that result in sevens).\n",
    "#### 2) Following what we did in class show how to use the convolution operator to determine the probability of the sum of 2 six sided dice. Do both analytically (math & counting) and numerically (computer program). Beware the implicit definition of the values (x-axis on histogram).\n",
    "6 * 6 = 36 possible outcomes\n",
    "P(2) = P(12) = P(1) * P(1) = 1/6 * 1/6 = 1/36  \n",
    "P(3) = P(11) = P(1) * P(2) + P(2) * P(1) = 1/6 * 1/6 * 2 = 2/36  \n",
    "P(4) = P(10) = P(1) * P(3) * 3 b/c 3 possibilities for rolls that work = 3/36  \n",
    "P(5) = P(9) = P(1) * P(4) * 4 b/c 4 possibilities for rolls that work = 4/36  \n",
    "P(6) = P(8) = P(1) * P(5) * 5 b/c 5 possibilities for rolls that work = 5/36  \n",
    "P(7) = P(1) * P(6) * 6 b/c 6 possibilities for rolls that work = 6/36"
   ]
  },
  {
   "cell_type": "code",
   "execution_count": 50,
   "id": "10997f1d-c9fe-409f-bad6-f1cbf102cfd6",
   "metadata": {},
   "outputs": [],
   "source": [
    "p1 = [1/6, 1/6, 1/6, 1/6, 1/6, 1/6]\n",
    "p2 = p1\n",
    "\n"
   ]
  },
  {
   "cell_type": "code",
   "execution_count": 44,
   "id": "06e278c3-6b75-4540-8528-ef7b17e3968e",
   "metadata": {},
   "outputs": [
    {
     "name": "stdout",
     "output_type": "stream",
     "text": [
      "Counter({7: 0.16666666666666666, 6: 0.1388888888888889, 8: 0.1388888888888889, 5: 0.1111111111111111, 9: 0.1111111111111111, 4: 0.08333333333333333, 10: 0.08333333333333333, 3: 0.05555555555555555, 11: 0.05555555555555555, 2: 0.027777777777777776, 12: 0.027777777777777776})\n"
     ]
    }
   ],
   "source": [
    "from collections import Counter\n",
    "a = []\n",
    "for i in range(1,7):\n",
    "    for j in range(1,7):\n",
    "        a.append((i + j))\n",
    "count = Counter(a)\n",
    "for key in count.keys():    \n",
    "    count[key] /=  36\n",
    "print(count)"
   ]
  },
  {
   "cell_type": "code",
   "execution_count": 45,
   "id": "a0e1ed72-ddbb-41b9-8420-1d6e89e8c75b",
   "metadata": {},
   "outputs": [
    {
     "data": {
      "image/png": "[encoded data removed]",
      "text/plain": [
       "<Figure size 432x288 with 1 Axes>"
      ]
     },
     "metadata": {
      "needs_background": "light"
     },
     "output_type": "display_data"
    }
   ],
   "source": [
    "import matplotlib.pyplot as plt\n",
    "fig = plt.figure()\n",
    "ax = fig.add_axes([0,0,1,1])\n",
    "ax.bar(count.keys(), count.values())\n",
    "plt.show()"
   ]
  },
  {
   "cell_type": "markdown",
   "id": "875b6b25-2b5c-40c1-89f1-715b2a10e515",
   "metadata": {},
   "source": [
    "#### 3) Calculate the mean and the variance of the distribution in problem 2. Hint: this is surprisingly tricky, make sure your result makes sense."
   ]
  },
  {
   "cell_type": "code",
   "execution_count": 46,
   "id": "aedf9ee7-cb62-49ce-8b2f-e23ea4f65b75",
   "metadata": {},
   "outputs": [
    {
     "name": "stdout",
     "output_type": "stream",
     "text": [
      "Mean = 7.0\n",
      "Variance = 6\n"
     ]
    }
   ],
   "source": [
    "import numpy as np\n",
    "import statistics as stat\n",
    "\n",
    "numbers = np.array(a)\n",
    "mean = sum(numbers) / len(numbers)\n",
    "print(\"Mean = \" + str(mean))\n",
    "\n",
    "var = stat.variance(numbers)\n",
    "print(\"Variance = \" + str(var))"
   ]
  },
  {
   "cell_type": "markdown",
   "id": "0dc12824-5c4a-4b26-a23a-b24348d070d4",
   "metadata": {},
   "source": [
    "#### 4) Repeat 2, and graph the average of 10 dice. Is this is a Gaussian distribution? Explain in depth.\n",
    "6^10 possible outcomes, ranging from 1*10 to 6 * 10, or 10 to 60  \n",
    "P(10) = P(60) = 1 possible way to get it = 1/6^10  \n",
    "P(11) = P(59) = 10 possible ways to get it = 10/6^10  \n",
    "P(12) = P(58) = 10 * 10 - 10 + 10 * 10 - 10 = 180 possible ways to get it  \n",
    "and so on"
   ]
  },
  {
   "cell_type": "code",
   "execution_count": 47,
   "id": "7dbd22eb-7b47-4f1b-a6d8-b9ded2d0fc13",
   "metadata": {},
   "outputs": [
    {
     "name": "stdout",
     "output_type": "stream",
     "text": [
      "Counter({35: 0.07269280597469897, 34: 0.07153271938347813, 36: 0.07153271938347813, 33: 0.06815810545055802, 37: 0.06815810545055802, 32: 0.06287043850763772, 38: 0.06287043850763772, 31: 0.05612410482184288, 39: 0.05612410482184288, 30: 0.048464367913724195, 40: 0.048464367913724195, 29: 0.04045732940015919, 41: 0.04045732940015919, 28: 0.03262369361674203, 42: 0.03262369361674203, 27: 0.025386755067825027, 43: 0.025386755067825027, 26: 0.019041554736320684, 44: 0.019041554736320684, 25: 0.013746594459686023, 45: 0.013746594459686023, 24: 0.00953533095924571, 46: 0.00953533095924571, 23: 0.00634189269716676, 47: 0.00634189269716676, 22: 0.004034073528975935, 48: 0.004034073528975935, 21: 0.0024466571195109147, 49: 0.0024466571195109147, 20: 0.0014095152966180629, 50: 0.0014095152966180629, 19: 0.0007677019297532558, 51: 0.0007677019297532558, 18: 0.000392946959304984, 52: 0.000392946959304984, 17: 0.00018754286694101508, 53: 0.00018754286694101508, 16: 8.260816758116141e-05, 54: 8.260816758116141e-05, 15: 3.310941971921624e-05, 55: 3.310941971921624e-05, 14: 1.1824792756862945e-05, 56: 1.1824792756862945e-05, 13: 3.6383977713424442e-06, 57: 3.6383977713424442e-06, 12: 9.095994428356111e-07, 58: 9.095994428356111e-07, 11: 1.65381716879202e-07, 59: 1.65381716879202e-07, 10: 1.65381716879202e-08, 60: 1.65381716879202e-08})\n"
     ]
    }
   ],
   "source": [
    "b = []\n",
    "for i1 in range(1,7):\n",
    "    for i2 in range(1,7):\n",
    "        for i3 in range(1,7):\n",
    "            for i4 in range(1,7):\n",
    "                for i5 in range(1,7):\n",
    "                    for i6 in range(1,7):\n",
    "                        for i7 in range(1,7):\n",
    "                            for i8 in range(1,7):\n",
    "                                for i9 in range(1,7):\n",
    "                                    for i10 in range(1,7):\n",
    "                                        b.append(i1+i2+i3+i4+i5+i6+i7+i8+i9+i10)\n",
    "count = Counter(b)\n",
    "for key in count.keys():    \n",
    "    count[key] /= 6**10\n",
    "print(count)"
   ]
  },
  {
   "cell_type": "code",
   "execution_count": 48,
   "id": "28c3a648-4beb-484e-9d78-02319a5e902b",
   "metadata": {},
   "outputs": [
    {
     "data": {
      "image/png": "[encoded data removed]",
      "text/plain": [
       "<Figure size 432x288 with 1 Axes>"
      ]
     },
     "metadata": {
      "needs_background": "light"
     },
     "output_type": "display_data"
    }
   ],
   "source": [
    "fig = plt.figure()\n",
    "ax = fig.add_axes([0,0,1,1])\n",
    "ax.bar(count.keys(), count.values())\n",
    "plt.show()"
   ]
  },
  {
   "cell_type": "markdown",
   "id": "13663d0f-eb67-43f7-b039-f98d39b10a46",
   "metadata": {},
   "source": [
    "It's not necessarily a Gaussian distribution, but according to the central limit theorem it approaches one as more trials are used."
   ]
  },
  {
   "cell_type": "markdown",
   "id": "02afe0a9-f6b6-44d2-8b1c-b9d9e32715f0",
   "metadata": {},
   "source": [
    "#### 5) Show that the sum and average of an initially Gaussian distribution is also a Guassian (can be analytic or numerical). How does the standard deviation of the resulting sum or average Guassian change? This is a hugely important result. Explore what this means for integrating a signal over time."
   ]
  },
  {
   "cell_type": "code",
   "execution_count": 49,
   "id": "9bd5b80c-46ab-40e8-bdf9-28b0be70fd42",
   "metadata": {},
   "outputs": [
    {
     "name": "stdout",
     "output_type": "stream",
     "text": [
      "Combined data from 1000 Gaussians with a mean of 5, standard deviation of 2, and 10 values\n",
      "Standard deviation of sums is: 6.0124653357080735\n",
      "Standard deviation of averages is: 0.6012465335708074\n"
     ]
    },
    {
     "data": {
      "image/png": "[encoded data removed]",
      "text/plain": [
       "<Figure size 432x288 with 2 Axes>"
      ]
     },
     "metadata": {
      "needs_background": "light"
     },
     "output_type": "display_data"
    }
   ],
   "source": [
    "# Use random.normal() to get Gaussian data\n",
    "sums = []\n",
    "averages = []\n",
    "for i in range(1000):\n",
    "    dist = np.random.normal(5, 2, 10)\n",
    "    sums.append(sum(dist))\n",
    "    averages.append(sum(dist) / len(dist))\n",
    "fig, (ax1, ax2) = plt.subplots(1, 2)\n",
    "ax1.hist(sums)\n",
    "ax1.set_title(\"Sums\")\n",
    "ax2.hist(averages)\n",
    "ax2.set_title(\"Averages\")\n",
    "print(\"Combined data from 1000 Gaussians with a mean of 5, standard deviation of 2, and 10 values\")\n",
    "print(\"Standard deviation of sums is: \" + str(stat.pstdev(sums)))\n",
    "print(\"Standard deviation of averages is: \" + str(stat.pstdev(averages)))"
   ]
  },
  {
   "cell_type": "markdown",
   "id": "fff5ff3e-9124-4790-ae30-1c4f1bc1bffa",
   "metadata": {},
   "source": [
    "The standard deviaition of the sum increases with multiple trials but the but the standard deviation of the average decreases with multiple trials. This means that integrating a signal over time will have a larger standard deviation but averaging multiple signals can lower the standard deviation."
   ]
  },
  {
   "cell_type": "code",
   "execution_count": null,
   "id": "87bc000d-0a65-4680-80db-0b259849dd4f",
   "metadata": {},
   "outputs": [],
   "source": []
  }
 ],
 "metadata": {
  "kernelspec": {
   "display_name": "Python 3",
   "language": "python",
   "name": "python3"
  },
  "language_info": {
   "codemirror_mode": {
    "name": "ipython",
    "version": 3
   },
   "file_extension": ".py",
   "mimetype": "text/x-python",
   "name": "python",
   "nbconvert_exporter": "python",
   "pygments_lexer": "ipython3",
   "version": "3.8.8"
  }
 },
 "nbformat": 4,
 "nbformat_minor": 5
}
